{
 "cells": [
  {
   "cell_type": "markdown",
   "id": "efe993e0",
   "metadata": {},
   "source": [
    "Convert sac scalar field to vtk 3d format"
   ]
  },
  {
   "cell_type": "markdown",
   "id": "6f7881bd",
   "metadata": {},
   "source": [
    "This current writer works for scalar variables\n",
    "there is a problem with the input file because row zero appears to have co-ordinate values and not the required\n",
    "density values for perturbed density"
   ]
  },
  {
   "cell_type": "code",
   "execution_count": 1,
   "id": "4dd6412d",
   "metadata": {},
   "outputs": [],
   "source": [
    "import numpy as np\n",
    "from numpy import *\n",
    "import scipy.io\n",
    "from scipy import special\n",
    "import matplotlib\n",
    "import matplotlib.pyplot as plt\n",
    "from mpl_toolkits.mplot3d import Axes3D\n",
    "from matplotlib import cm\n",
    "from matplotlib.ticker import LinearLocator, FormatStrFormatter\n",
    "import struct"
   ]
  },
  {
   "cell_type": "code",
   "execution_count": 28,
   "id": "af794401",
   "metadata": {},
   "outputs": [],
   "source": [
    "inputfile='/media/mike/data/mike/proj/smaug/hyp/zeroHYP_265000.out'\n",
    "\n",
    "#file = open('/media/mike/data/mike/proj/smaug/hyp/zeroHYP_265000.out','rb')\n",
    "\n",
    "\n",
    "#create an output folder called vtk\n",
    "outfilename='nypnov_ascii_265000.vtk'\n",
    "outputfile='/media/mike/data/mike/proj/smaug/hyp/vtk/'+outfilename\n",
    "\n",
    "#typedef enum vars {rho, mom1, mom2, energy, b1, b2,energyb,rhob,b1b,b2b} CEV;\n",
    "\n",
    "#density scalar component\n",
    "field=0\n",
    "outfieldname='dens'\n",
    "\n",
    "#origin\n",
    "xo=0.0\n",
    "yo=0.0\n",
    "zo=0.0\n",
    "\n",
    "#spacing\n",
    "dx=1.90469e17\n",
    "dy=1.90469e17\n",
    "dz=1.90469e17"
   ]
  },
  {
   "cell_type": "markdown",
   "id": "4df6aff2",
   "metadata": {},
   "source": [
    "read sac file"
   ]
  },
  {
   "cell_type": "code",
   "execution_count": 3,
   "id": "68303816",
   "metadata": {},
   "outputs": [],
   "source": [
    "file = open(inputfile,'rb')\n",
    "\n",
    "file.seek(0,2)\n",
    "eof = file.tell()\n",
    "file.seek(0,0)\n",
    "\n",
    "name = file.read(79)\n",
    "nit = fromfile(file,dtype=int32,count=1)\n",
    "t = fromfile(file,dtype=float64,count=1)\n",
    "ndim=fromfile(file,dtype=int32,count=1)\n",
    "neqpar=fromfile(file,dtype=int32,count=1)\n",
    "nw=fromfile(file,dtype=int32,count=1)\n",
    "#ndata = fromfile(file,dtype=int32,count=ndim)[:ndim]\n",
    "ndata = fromfile(file,dtype=int32,count=3)\n",
    "varbuf = fromfile(file,dtype=float,count=6)[:6]\n",
    "varnames = file.read(79)\n",
    "\n",
    "#typedef enum vars {rho, mom1, mom2, energy, b1, b2,energyb,rhob,b1b,b2b} CEV;\n",
    "datcount=(nw+ndim)*ndata[0]*ndata[1]*ndata[2]\n",
    "\n",
    "#alldat=fromfile(file,dtype=float,count=datcount)[:(nw+ndim)*ndata[0]*ndata[1]]\n",
    "alldat=fromfile(file,dtype=float,count=datcount[0])\n",
    "if size(alldat)<(nw+ndim)*ndata[0]*ndata[1]*ndata[2]:\n",
    "    alldat=resize(alldat,(nw+ndim)*ndata[0]*ndata[1]*ndata[2])\n",
    "alldat=np.reshape(alldat,(nw[0]+ndim[0],ndata[2],ndata[1],ndata[0]),'C') #opposite way to what you think!\n",
    "#alldat=np.reshape(alldat,(12,256,256),'C')\n",
    "\n",
    "file.close()"
   ]
  },
  {
   "cell_type": "code",
   "execution_count": 29,
   "id": "39931d4c",
   "metadata": {},
   "outputs": [
    {
     "name": "stdout",
     "output_type": "stream",
     "text": [
      "[13]\n",
      "[3]\n",
      "[128 128 128]\n",
      "[ 1.27798387e+19 -1.21900000e+19 -1.19933871e+19 -1.17967742e+19\n",
      " -1.16001613e+19 -1.14035484e+19 -1.12069355e+19 -1.10103226e+19\n",
      " -1.08137097e+19 -1.06170968e+19 -1.04204839e+19 -1.02238710e+19\n",
      " -1.00272581e+19 -9.83064516e+18 -9.63403226e+18 -9.43741935e+18\n",
      " -9.24080645e+18 -9.04419355e+18 -8.84758065e+18 -8.65096774e+18\n",
      " -8.45435484e+18 -8.25774194e+18 -8.06112903e+18 -7.86451613e+18\n",
      " -7.66790323e+18 -7.47129032e+18 -7.27467742e+18 -7.07806452e+18\n",
      " -6.88145161e+18 -6.68483871e+18 -6.48822581e+18 -6.29161290e+18\n",
      " -6.09500000e+18 -5.89838710e+18 -5.70177419e+18 -5.50516129e+18\n",
      " -5.30854839e+18 -5.11193548e+18 -4.91532258e+18 -4.71870968e+18\n",
      " -4.52209677e+18 -4.32548387e+18 -4.12887097e+18 -3.93225806e+18\n",
      " -3.73564516e+18 -3.53903226e+18 -3.34241935e+18 -3.14580645e+18\n",
      " -2.94919355e+18 -2.75258065e+18 -2.55596774e+18 -2.35935484e+18\n",
      " -2.16274194e+18 -1.96612903e+18 -1.76951613e+18 -1.57290323e+18\n",
      " -1.37629032e+18 -1.17967742e+18 -9.83064516e+17 -7.86451613e+17\n",
      " -5.89838710e+17 -3.93225806e+17 -1.96612903e+17  7.68000000e+02\n",
      "  1.96612903e+17  3.93225806e+17  5.89838710e+17  7.86451613e+17\n",
      "  9.83064516e+17  1.17967742e+18  1.37629032e+18  1.57290323e+18\n",
      "  1.76951613e+18  1.96612903e+18  2.16274194e+18  2.35935484e+18\n",
      "  2.55596774e+18  2.75258065e+18  2.94919355e+18  3.14580645e+18\n",
      "  3.34241935e+18  3.53903226e+18  3.73564516e+18  3.93225806e+18\n",
      "  4.12887097e+18  4.32548387e+18  4.52209677e+18  4.71870968e+18\n",
      "  4.91532258e+18  5.11193548e+18  5.30854839e+18  5.50516129e+18\n",
      "  5.70177419e+18  5.89838710e+18  6.09500000e+18  6.29161290e+18\n",
      "  6.48822581e+18  6.68483871e+18  6.88145161e+18  7.07806452e+18\n",
      "  7.27467742e+18  7.47129032e+18  7.66790323e+18  7.86451613e+18\n",
      "  8.06112903e+18  8.25774194e+18  8.45435484e+18  8.65096774e+18\n",
      "  8.84758065e+18  9.04419355e+18  9.24080645e+18  9.43741935e+18\n",
      "  9.63403226e+18  9.83064516e+18  1.00272581e+19  1.02238710e+19\n",
      "  1.04204839e+19  1.06170968e+19  1.08137097e+19  1.10103226e+19\n",
      "  1.12069355e+19  1.14035484e+19  1.16001613e+19  1.17967742e+19\n",
      "  1.19933871e+19  1.21900000e+19  1.23866129e+19  1.25832258e+19]\n"
     ]
    }
   ],
   "source": [
    "print(nw)\n",
    "print(ndim)\n",
    "print(ndata)\n",
    "\n",
    "print(alldat[1,0,:,0])"
   ]
  },
  {
   "cell_type": "markdown",
   "id": "ba9fed3a",
   "metadata": {},
   "source": [
    "write vtk"
   ]
  },
  {
   "cell_type": "code",
   "execution_count": 33,
   "id": "129c939c",
   "metadata": {},
   "outputs": [],
   "source": [
    "\n",
    "\n",
    "\n",
    "# alldat :: the full array of vacdata from getpict \n",
    "# alldat[0:2] :: are the position data     \n",
    "# field :: which field\n",
    "#         e.g. 1,2,3\n",
    "# vecsize :: 1,2,3 how many components field has\n",
    "#        ; e.g. magnetic field, velocity or momentum\n",
    "# outputfile :: is a string of the name of the output file (without\n",
    "#; .vtk)\n",
    "\n",
    "#all data is contained in an array alldat of shape nfields+ndim,dim[0],dim[1]\n",
    "\n",
    "#start writing vtk file\n",
    "\n",
    "byteorder='LittleEndian'\n",
    "dim=ndata\n",
    "\n",
    "#Define grid data size\n",
    "sizew=dim\n",
    "\n",
    "\n",
    "# Open the file .vtr\n",
    "file = open(outputfile,'w')\n",
    " \n",
    "# Header\n",
    "\n",
    "#     printf,lu,'# vtk DataFile Version 2.0'\n",
    "file.write(\"# vtk DataFile Version 2.0\\n\")\n",
    "\n",
    "#     printf,lu,'Structured Grid'\n",
    "#     printf,lu,'ASCII'\n",
    "#     printf,lu,' '\n",
    "#     printf,lu,'DATASET RECTILINEAR_GRID'\n",
    "#     printf,lu,'DIMENSIONS ',sizew(1),' ',sizew(2),'    ',sizew(3)\n",
    "file.write(\"Structured Grid\\n\")\n",
    "file.write(\"ASCII\\n\")\n",
    "file.write(\" \\n\")\n",
    "file.write(\"DATASET STRUCTURED_POINTS\\n\")\n",
    "file.write(\"DIMENSIONS \"+str(dim[0])+\" \"+str(dim[1])+\" \"+str(dim[2])+\"\\n\")\n",
    "file.write(\"SPACING \"+str(dx)+\" \"+str(dy)+\" \"+str(dz)+\"\\n\")\n",
    "file.write(\"ORIGIN \"+str(xo)+\" \"+str(yo)+\" \"+str(zo)+\"\\n\")\n",
    "\n",
    "#        printf,lu,'X_COORDINATES ',sizew(1),' double'\n",
    "#        for ix=0,sizew(1)-1 do begin\n",
    "#           printf,lu,x(ix,0,0)\n",
    "#        endfor\n",
    "\n",
    "##file.write(\"X_COORDINATES \"+str(dim[0])+\" double\\n\")\n",
    "##j=0\n",
    "##line=\"\"\n",
    "##for i1 in range(dim[0]):\n",
    "##    line=line+str(alldat[1,0,i1,0])\n",
    "##    line=line+\"\\n\"\n",
    "##file.write(line)\n",
    "\n",
    "##file.write(\"Y_COORDINATES \"+str(dim[1])+\" double\\n\")\n",
    "##j=1\n",
    "##line=\"\"\n",
    "##for i1 in range(dim[1]):\n",
    "##    line=line+str(alldat[1,0,i1,0])\n",
    "##    line=line+\"\\n\"\n",
    "##file.write(line)\n",
    "\n",
    "##file.write(\"Z_COORDINATES \"+str(dim[2])+\" double\\n\")\n",
    "##j=2\n",
    "##line=\"\"\n",
    "##for i1 in range(dim[2]):\n",
    "##    line=line+str(alldat[1,0,i1,0])\n",
    "##    line=line+\"\\n\"\n",
    "##file.write(line)\n",
    "\n",
    "#        printf,lu,'POINT_DATA ',sizew(1)*sizew(2)*sizew(3)\n",
    "#       printf,lu,'SCALARS ',filename,' double 1'\n",
    "file.write(\"POINT_DATA \"+str(dim[0]*dim[1]*dim[2])+\"\\n\")\n",
    "file.write(\"SCALARS \"+outfieldname+\" double 1\\n\")\n",
    "\n",
    "file.write(\"LOOKUP_TABLE default\\n\")\n",
    "#        printf,lu,'LOOKUP_TABLE TableName '\n",
    "#        for iz=0,sizew(3)-1 do begin\n",
    "#           for iy=0,sizew(2)-1 do begin\n",
    "#              for ix=0,sizew(1)-1 do begin\n",
    "#                printf,lu,vacdata(ix,iy,iz,field)\n",
    "#              endfor\n",
    "#           endfor\n",
    "#        endfor\n",
    "j=field+ndim\n",
    "for i3 in range(dim[2]):\n",
    "    for i2 in range(dim[1]):\n",
    "        line=\"\"\n",
    "        for i1 in range(dim[0]):\n",
    "#TODO\n",
    "# note form in which we have written this otherwise \n",
    "#fields formatted with [] around numbers\n",
    "            for d in alldat[j,i1,i2,i3]:\n",
    "                line=line+str(d)+\" \"\n",
    "        line=line+\"\\n\"\n",
    "        file.write(line)\n",
    "\n",
    "file.close()"
   ]
  },
  {
   "cell_type": "code",
   "execution_count": 23,
   "id": "4d88ff30",
   "metadata": {},
   "outputs": [
    {
     "name": "stdout",
     "output_type": "stream",
     "text": [
      "(16, 128, 128, 128)\n"
     ]
    }
   ],
   "source": [
    "print(shape(alldat))"
   ]
  },
  {
   "cell_type": "code",
   "execution_count": 25,
   "id": "3cbcd242",
   "metadata": {},
   "outputs": [
    {
     "name": "stdout",
     "output_type": "stream",
     "text": [
      "2097152\n",
      "16384\n"
     ]
    }
   ],
   "source": [
    "print(128*128*128)\n",
    "print(128*128)"
   ]
  },
  {
   "cell_type": "code",
   "execution_count": null,
   "id": "8df88ed0",
   "metadata": {},
   "outputs": [],
   "source": []
  }
 ],
 "metadata": {
  "kernelspec": {
   "display_name": "Python 3 (ipykernel)",
   "language": "python",
   "name": "python3"
  },
  "language_info": {
   "codemirror_mode": {
    "name": "ipython",
    "version": 3
   },
   "file_extension": ".py",
   "mimetype": "text/x-python",
   "name": "python",
   "nbconvert_exporter": "python",
   "pygments_lexer": "ipython3",
   "version": "3.9.13"
  }
 },
 "nbformat": 4,
 "nbformat_minor": 5
}
