{
 "cells": [
  {
   "cell_type": "markdown",
   "id": "33a9f234",
   "metadata": {},
   "source": [
    "Plot 3d smaug data"
   ]
  },
  {
   "cell_type": "code",
   "execution_count": 2,
   "id": "949b3f3d",
   "metadata": {},
   "outputs": [],
   "source": [
    "import numpy as np\n",
    "from numpy import *\n",
    "import scipy.io\n",
    "from scipy import special\n",
    "import matplotlib\n",
    "import matplotlib.pyplot as plt\n",
    "from mpl_toolkits.mplot3d import Axes3D\n",
    "from matplotlib import cm\n",
    "from matplotlib.ticker import LinearLocator, FormatStrFormatter\n",
    "import struct\n",
    "\n",
    "%matplotlib inline  "
   ]
  },
  {
   "cell_type": "code",
   "execution_count": 1,
   "id": "ed73a6b7",
   "metadata": {},
   "outputs": [
    {
     "ename": "FileNotFoundError",
     "evalue": "[Errno 2] No such file or directory: '/media/mike/data/mike/proj/smaug/tube/tube2_11000.out'",
     "output_type": "error",
     "traceback": [
      "\u001b[0;31m---------------------------------------------------------------------------\u001b[0m",
      "\u001b[0;31mFileNotFoundError\u001b[0m                         Traceback (most recent call last)",
      "\u001b[0;32m/tmp/ipykernel_66471/1134123281.py\u001b[0m in \u001b[0;36m<module>\u001b[0;34m\u001b[0m\n\u001b[0;32m----> 1\u001b[0;31m \u001b[0mfile\u001b[0m \u001b[0;34m=\u001b[0m \u001b[0mopen\u001b[0m\u001b[0;34m(\u001b[0m\u001b[0;34m'/media/mike/data/mike/proj/smaug/tube/tube2_11000.out'\u001b[0m\u001b[0;34m,\u001b[0m\u001b[0;34m'rb'\u001b[0m\u001b[0;34m)\u001b[0m\u001b[0;34m\u001b[0m\u001b[0;34m\u001b[0m\u001b[0m\n\u001b[0m\u001b[1;32m      2\u001b[0m \u001b[0;34m\u001b[0m\u001b[0m\n\u001b[1;32m      3\u001b[0m \u001b[0;34m\u001b[0m\u001b[0m\n\u001b[1;32m      4\u001b[0m \u001b[0;34m\u001b[0m\u001b[0m\n\u001b[1;32m      5\u001b[0m \u001b[0mfile\u001b[0m\u001b[0;34m.\u001b[0m\u001b[0mseek\u001b[0m\u001b[0;34m(\u001b[0m\u001b[0;36m0\u001b[0m\u001b[0;34m,\u001b[0m\u001b[0;36m2\u001b[0m\u001b[0;34m)\u001b[0m\u001b[0;34m\u001b[0m\u001b[0;34m\u001b[0m\u001b[0m\n",
      "\u001b[0;31mFileNotFoundError\u001b[0m: [Errno 2] No such file or directory: '/media/mike/data/mike/proj/smaug/tube/tube2_11000.out'"
     ]
    }
   ],
   "source": [
    "\n",
    "file = open('/media/mike/data/mike/proj/smaug/tube/tube2_11000.out','rb')\n",
    "\n",
    "\n",
    "\n",
    "file.seek(0,2)\n",
    "eof = file.tell()\n",
    "file.seek(0,0)\n",
    "\n",
    "name = file.read(79)\n",
    "nit = fromfile(file,dtype=int32,count=1)\n",
    "t = fromfile(file,dtype=float64,count=1)\n",
    "ndim=fromfile(file,dtype=int32,count=1)\n",
    "neqpar=fromfile(file,dtype=int32,count=1)\n",
    "nw=fromfile(file,dtype=int32,count=1)\n",
    "#ndata = fromfile(file,dtype=int32,count=ndim)[:ndim]\n",
    "ndata = fromfile(file,dtype=int32,count=3)\n",
    "varbuf = fromfile(file,dtype=float,count=6)[:6]\n",
    "varnames = file.read(79)\n",
    "\n",
    "#typedef enum vars {rho, mom1, mom2, energy, b1, b2,energyb,rhob,b1b,b2b} CEV;\n",
    "datcount=(nw+ndim)*ndata[0]*ndata[1]*ndata[2]\n",
    "\n",
    "#alldat=fromfile(file,dtype=float,count=datcount)[:(nw+ndim)*ndata[0]*ndata[1]]\n",
    "alldat=fromfile(file,dtype=float,count=datcount[0])\n",
    "if size(alldat)<(nw+ndim)*ndata[0]*ndata[1]*ndata[2]:\n",
    "    alldat=resize(alldat,(nw+ndim)*ndata[0]*ndata[1]*ndata[2])\n",
    "alldat=np.reshape(alldat,(nw[0]+ndim[0],ndata[2],ndata[1],ndata[0]),'C') #the opposite way we think be careful\n",
    "#alldat=np.reshape(alldat,(12,256,256),'C')\n",
    "\n",
    "file.close()"
   ]
  },
  {
   "cell_type": "code",
   "execution_count": 84,
   "id": "e030e213",
   "metadata": {},
   "outputs": [
    {
     "name": "stdout",
     "output_type": "stream",
     "text": [
      "[128 128 128]\n",
      "<class 'numpy.ndarray'>\n",
      "[13]\n",
      "[3]\n"
     ]
    }
   ],
   "source": [
    "print(ndata)\n",
    "print(type(datcount))\n",
    "print(nw)\n",
    "print(ndim)"
   ]
  },
  {
   "cell_type": "code",
   "execution_count": 85,
   "id": "daecdef7",
   "metadata": {},
   "outputs": [
    {
     "name": "stdout",
     "output_type": "stream",
     "text": [
      "varnames: b'\\x00\\x00\\x00\\x00\\x00\\x00\\x00\\x00x y z rho mx my mz e bx by bz gamma eta g1 g2 g3\\x00\\x00\\x00\\x00\\x00\\x00\\x00\\x00\\x00\\x00\\x00\\x00\\x00\\x00\\x00\\x00\\x00\\x00\\x00\\x00\\x00\\x00\\x00'\n",
      "nit: [1000]\n",
      "name: b'test1\\x00\\x00\\x00\\x00\\x00\\x00\\x00\\x00\\x00\\x00\\x00\\x00\\x00\\x00\\x00\\x00\\x00\\x00\\x00\\x00\\x00\\x00\\x00\\x00\\x00\\x00\\x00\\x00\\x00\\x00\\x00\\x00\\x00\\x00\\x00\\x00\\x00\\x00\\x00\\x00\\x00\\x00\\x00\\x00\\x00\\x00\\x00\\x00\\x00\\x00\\x00\\x00\\x00\\x00\\x00\\x00\\x00\\x00\\x00\\x00\\x00\\x00\\x00\\x00\\x00\\x00\\x00\\x00\\x00\\x00\\x00\\x00\\x00\\x00'\n",
      "t: [1.001e-05]\n",
      "ndim: [3]\n",
      "neqpar: [7]\n",
      "nw: [13]\n",
      "varbuf: [   1.66666667    0.         -274.            0.            0.\n",
      "    0.        ]\n"
     ]
    }
   ],
   "source": [
    "print ('varnames:',varnames)\n",
    "print ('nit:',nit)\n",
    "print ('name:',name)\n",
    "print ('t:',t)\n",
    "print ('ndim:',ndim)\n",
    "print ('neqpar:',neqpar)\n",
    "print ('nw:',nw)\n",
    "print ('varbuf:',varbuf)"
   ]
  },
  {
   "cell_type": "code",
   "execution_count": 86,
   "id": "4fde519e",
   "metadata": {},
   "outputs": [
    {
     "name": "stdout",
     "output_type": "stream",
     "text": [
      "0.33108664731\n",
      "1992187.5\n"
     ]
    }
   ],
   "source": [
    "rho=alldat[3,:,:,:]+alldat[11,:,:,:]\n",
    "print(np.min(rho))\n",
    "print(np.max(rho))"
   ]
  },
  {
   "cell_type": "code",
   "execution_count": 87,
   "id": "727f86f2",
   "metadata": {},
   "outputs": [
    {
     "name": "stdout",
     "output_type": "stream",
     "text": [
      "-1.048442831307562e-07\n",
      "2.7876106015202235e-08\n"
     ]
    }
   ],
   "source": [
    "vz=alldat[4,:,:,:]/(alldat[3,:,:,:]+alldat[11,:,:,:])\n",
    "print(np.min(vz))\n",
    "print(np.max(vz))"
   ]
  },
  {
   "cell_type": "code",
   "execution_count": 88,
   "id": "39b4949d",
   "metadata": {},
   "outputs": [
    {
     "name": "stdout",
     "output_type": "stream",
     "text": [
      "-1.048442831307562e-07\n",
      "8.739777477884356e-09\n"
     ]
    }
   ],
   "source": [
    "iz=8\n",
    "vzx=alldat[4,:,:,iz]/(alldat[3,:,:,iz]+alldat[11,:,:,iz])\n",
    "print(np.min(vzx))\n",
    "print(np.max(vzx))"
   ]
  },
  {
   "cell_type": "code",
   "execution_count": 89,
   "id": "464cb85c",
   "metadata": {
    "scrolled": true
   },
   "outputs": [
    {
     "data": {
      "image/png": "[encoded data removed]",
      "text/plain": [
       "<Figure size 640x480 with 1 Axes>"
      ]
     },
     "metadata": {},
     "output_type": "display_data"
    }
   ],
   "source": [
    "im2 = plt.imshow(vzx, cmap=plt.cm.viridis, alpha=.9, interpolation='bilinear',vmin=-1.1e-7,vmax=2.7e-8)\n",
    "#im2 = plt.imshow(vzx, cmap=plt.cm.viridis, alpha=.9, interpolation='bilinear')"
   ]
  },
  {
   "cell_type": "code",
   "execution_count": 90,
   "id": "1794b09c",
   "metadata": {},
   "outputs": [
    {
     "name": "stdout",
     "output_type": "stream",
     "text": [
      "-1.0437741216015476e-07\n",
      "2.6979742405360674e-08\n"
     ]
    }
   ],
   "source": [
    "iy=64\n",
    "vzx=alldat[4,iy,:,:]/(alldat[3,iy,:,:]+alldat[11,iy,:,:])\n",
    "print(np.min(vzx))\n",
    "print(np.max(vzx))"
   ]
  },
  {
   "cell_type": "code",
   "execution_count": 91,
   "id": "af6ed88a",
   "metadata": {
    "scrolled": true
   },
   "outputs": [
    {
     "data": {
      "image/png": "[encoded data removed]",
      "text/plain": [
       "<Figure size 640x480 with 1 Axes>"
      ]
     },
     "metadata": {},
     "output_type": "display_data"
    }
   ],
   "source": [
    "im2 = plt.imshow(vzx, cmap=plt.cm.viridis, alpha=.9, interpolation='bilinear',vmin=np.min(vzx),vmax=np.max(vzx))\n",
    "#im2 = plt.imshow(vzx, cmap=plt.cm.viridis, alpha=.9, interpolation='bilinear')"
   ]
  },
  {
   "cell_type": "code",
   "execution_count": 92,
   "id": "3b819445",
   "metadata": {},
   "outputs": [
    {
     "name": "stdout",
     "output_type": "stream",
     "text": [
      "7812.5\n",
      "1992187.5\n"
     ]
    }
   ],
   "source": [
    "iy=64\n",
    "bzx=(alldat[8,iy,:,:]+alldat[13,iy,:,:])\n",
    "print(np.min(bzx))\n",
    "print(np.max(bzx))"
   ]
  },
  {
   "cell_type": "code",
   "execution_count": 93,
   "id": "fda78c3d",
   "metadata": {},
   "outputs": [
    {
     "data": {
      "image/png": "[encoded data removed]",
      "text/plain": [
       "<Figure size 640x480 with 1 Axes>"
      ]
     },
     "metadata": {},
     "output_type": "display_data"
    }
   ],
   "source": [
    "im2 = plt.imshow(bzx, cmap=plt.cm.viridis, alpha=.9, interpolation='bilinear',vmin=np.min(bzx),vmax=np.max(bzx))"
   ]
  },
  {
   "cell_type": "code",
   "execution_count": 94,
   "id": "c0d8bae5",
   "metadata": {},
   "outputs": [
    {
     "name": "stdout",
     "output_type": "stream",
     "text": [
      "-0.14314893486617328\n",
      "0.2551576527575431\n"
     ]
    }
   ],
   "source": [
    "iy=64\n",
    "bzpx=(alldat[8,iy,:,:])\n",
    "print(np.min(bzpx))\n",
    "print(np.max(bzpx))"
   ]
  },
  {
   "cell_type": "code",
   "execution_count": 95,
   "id": "4fe699bc",
   "metadata": {},
   "outputs": [
    {
     "data": {
      "image/png": "[encoded data removed]",
      "text/plain": [
       "<Figure size 640x480 with 1 Axes>"
      ]
     },
     "metadata": {},
     "output_type": "display_data"
    }
   ],
   "source": [
    "im2 = plt.imshow(bzpx, cmap=plt.cm.viridis, alpha=.9, interpolation='bilinear',vmin=np.min(bzpx),vmax=np.max(bzpx))"
   ]
  },
  {
   "cell_type": "code",
   "execution_count": null,
   "id": "f3e0b5a4",
   "metadata": {},
   "outputs": [],
   "source": []
  },
  {
   "cell_type": "code",
   "execution_count": null,
   "id": "d19fe6cd",
   "metadata": {},
   "outputs": [],
   "source": []
  },
  {
   "cell_type": "code",
   "execution_count": null,
   "id": "407dd6f3",
   "metadata": {},
   "outputs": [],
   "source": []
  }
 ],
 "metadata": {
  "kernelspec": {
   "display_name": "Python 3 (ipykernel)",
   "language": "python",
   "name": "python3"
  },
  "language_info": {
   "codemirror_mode": {
    "name": "ipython",
    "version": 3
   },
   "file_extension": ".py",
   "mimetype": "text/x-python",
   "name": "python",
   "nbconvert_exporter": "python",
   "pygments_lexer": "ipython3",
   "version": "3.9.13"
  }
 },
 "nbformat": 4,
 "nbformat_minor": 5
}
